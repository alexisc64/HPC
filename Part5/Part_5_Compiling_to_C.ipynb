{
 "cells": [
  {
   "cell_type": "code",
   "execution_count": 10,
   "metadata": {},
   "outputs": [
    {
     "ename": "ModuleNotFoundError",
     "evalue": "No module named 'Cython1'",
     "output_type": "error",
     "traceback": [
      "\u001b[1;31m---------------------------------------------------------------------------\u001b[0m",
      "\u001b[1;31mModuleNotFoundError\u001b[0m                       Traceback (most recent call last)",
      "Cell \u001b[1;32mIn[10], line 6\u001b[0m\n\u001b[0;32m      3\u001b[0m \u001b[38;5;28;01mimport\u001b[39;00m \u001b[38;5;21;01mmatplotlib\u001b[39;00m\u001b[38;5;21;01m.\u001b[39;00m\u001b[38;5;21;01mpyplot\u001b[39;00m \u001b[38;5;28;01mas\u001b[39;00m \u001b[38;5;21;01mplt\u001b[39;00m\n\u001b[0;32m      5\u001b[0m \u001b[38;5;66;03m# Import the compiled Cython modules and the Python code\u001b[39;00m\n\u001b[1;32m----> 6\u001b[0m \u001b[38;5;28;01mimport\u001b[39;00m \u001b[38;5;21;01mCython1\u001b[39;00m\n\u001b[0;32m      7\u001b[0m \u001b[38;5;28;01mimport\u001b[39;00m \u001b[38;5;21;01mCython2\u001b[39;00m\n\u001b[0;32m      8\u001b[0m \u001b[38;5;28;01mimport\u001b[39;00m \u001b[38;5;21;01mCython3\u001b[39;00m\n",
      "\u001b[1;31mModuleNotFoundError\u001b[0m: No module named 'Cython1'"
     ]
    }
   ],
   "source": [
    "import time\n",
    "import numpy as np\n",
    "import matplotlib.pyplot as plt\n",
    "\n",
    "# Import the compiled Cython modules and the Python code\n",
    "import Cython1\n",
    "import Cython2\n",
    "import Cython3\n",
    "import Cython4\n",
    "import PythonCode\n",
    "import Cython3_Test\n",
    "import Cython4_Test\n",
    "\n",
    "# Function to measure execution time\n",
    "def time_function(func, *args, **kwargs):\n",
    "    start_time = time.time()\n",
    "    func(*args, **kwargs)\n",
    "    return time.time() - start_time\n",
    "\n",
    "lattice = np.random.randint(2, size=(100000, 100000))\n",
    "i=1\n",
    "j=1\n",
    "# Time each function\n",
    "python_time = time_function(PythonCode.update_rule, lattice,i,j)\n",
    "cython1_time = time_function(Cython1.update_rule, lattice,i,j)\n",
    "cython2_time = time_function(Cython2.update_rule, lattice,i,j)\n",
    "cython3_time = time_function(Cython3_Test.update_rule, lattice,i,j)\n",
    "cython4_time = time_function(Cython4_Test.update_rule, lattice,i,j)\n",
    "\n",
    "# Collect the times\n",
    "times = [python_time, cython1_time, cython2_time, cython3_time, cython4_time]\n",
    "labels = ['Python', 'Cython1', 'Cython2', 'Cython3', 'Cython4']\n",
    "\n",
    "# Plotting the results\n",
    "plt.bar(labels, times, color='blue')\n",
    "plt.xlabel('Implementation')\n",
    "plt.ylabel('Time (sec)')\n",
    "plt.title('Results')\n",
    "plt.show()\n"
   ]
  },
  {
   "cell_type": "code",
   "execution_count": null,
   "metadata": {},
   "outputs": [],
   "source": []
  }
 ],
 "metadata": {
  "kernelspec": {
   "display_name": "Python 3",
   "language": "python",
   "name": "python3"
  },
  "language_info": {
   "codemirror_mode": {
    "name": "ipython",
    "version": 3
   },
   "file_extension": ".py",
   "mimetype": "text/x-python",
   "name": "python",
   "nbconvert_exporter": "python",
   "pygments_lexer": "ipython3",
   "version": "3.11.9"
  }
 },
 "nbformat": 4,
 "nbformat_minor": 2
}
