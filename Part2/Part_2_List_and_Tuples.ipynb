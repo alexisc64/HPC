{
  "cells": [
    {
      "cell_type": "code",
      "execution_count": 1,
      "metadata": {
        "colab": {
          "base_uri": "https://localhost:8080/"
        },
        "id": "8-ug_Xs7H6oi",
        "outputId": "9a543742-e00e-4210-8c89-8eaebfd0ee0e"
      },
      "outputs": [
        {
          "name": "stdout",
          "output_type": "stream",
          "text": [
            "Code               N=10000 (µs) N=20000 (µs) N=30000 (µs)    Tin\n",
            "list.pop()                 0.18         0.24         0.24   O(1)\n",
            "list.pop(0)               55.86       234.32       136.69   O(N)\n",
            "list.append(1)             0.17         0.23         0.24   O(1)\n",
            "list.insert(0, 1)          9.13        17.04        12.42   O(N)\n"
          ]
        }
      ],
      "source": [
        "import timeit\n",
        "\n",
        "# Define the number of elements and operations\n",
        "sizes = [10000, 20000, 30000]\n",
        "operations = {\n",
        "    \"list.pop()\": lambda lst: lst.pop(),\n",
        "    \"list.pop(0)\": lambda lst: lst.pop(0),\n",
        "    \"list.append(1)\": lambda lst: lst.append(1),\n",
        "    \"list.insert(0, 1)\": lambda lst: lst.insert(0, 1),\n",
        "}\n",
        "\n",
        "# Create a dictionary to store the results\n",
        "results = {op: [] for op in operations}\n",
        "\n",
        "# Measure the time taken for each operation\n",
        "for N in sizes:\n",
        "    for operation, func in operations.items():\n",
        "        # Create a list of N elements\n",
        "        lst = list(range(N))\n",
        "        # Time the operation\n",
        "        timer = timeit.Timer(lambda: func(lst))\n",
        "        # Number of executions for averaging\n",
        "        n_exec = 1000 if operation != \"list.pop(0)\" else 10\n",
        "        exec_time = timer.timeit(number=n_exec) / n_exec\n",
        "        # Convert to microseconds and append to results\n",
        "        results[operation].append(exec_time * 1e6)\n",
        "\n",
        "# Print the results in a table format\n",
        "print(\"{:<18} {:>12} {:>12} {:>12} {:>6}\".format(\"Code\", \"N=10000 (µs)\", \"N=20000 (µs)\", \"N=30000 (µs)\", \"Tin\"))\n",
        "for op in operations:\n",
        "    times = results[op]\n",
        "    big_o = \"O(1)\" if \"pop(0)\" not in op and \"insert\" not in op else \"O(N)\"\n",
        "    print(\"{:<18} {:>12.2f} {:>12.2f} {:>12.2f} {:>6}\".format(op, times[0], times[1], times[2], big_o))\n"
      ]
    },
    {
      "cell_type": "code",
      "execution_count": 2,
      "metadata": {
        "colab": {
          "base_uri": "https://localhost:8080/"
        },
        "id": "hi1QA9cvLDQ4",
        "outputId": "408f0cd9-90f3-4066-92ff-85dae201b6f7"
      },
      "outputs": [
        {
          "name": "stdout",
          "output_type": "stream",
          "text": [
            "Code            N=10000 (µs) N=20000 (µs) N=30000 (µs)\n",
            "------------------------------------------------------\n",
            "deque.pop()           0.20       0.08       0.16 \n",
            "deque.popleft()       0.17       0.10       0.17 \n",
            "deque.append()        0.18       0.18       0.09 \n",
            "deque.appendleft()       0.17       0.16       0.19 \n"
          ]
        }
      ],
      "source": [
        "import timeit\n",
        "from collections import deque\n",
        "\n",
        "# Define the number of elements for the tests\n",
        "sizes = [10000, 20000, 30000]\n",
        "\n",
        "# Initialize results dictionary\n",
        "results = {size: {} for size in sizes}\n",
        "\n",
        "# Define the test functions for deque\n",
        "def test_pop(d):\n",
        "    d.pop()\n",
        "\n",
        "def test_popleft(d):\n",
        "    d.popleft()\n",
        "\n",
        "def test_append(d):\n",
        "    d.append(1)\n",
        "\n",
        "def test_appendleft(d):\n",
        "    d.appendleft(1)\n",
        "\n",
        "# Iterate over sizes and test functions to gather timings\n",
        "for size in sizes:\n",
        "    d = deque(range(size))\n",
        "    results[size]['pop'] = timeit.timeit('test_pop(d)', globals=globals(), number=1000) / 1000 * 1e6\n",
        "    d = deque(range(size))\n",
        "    results[size]['popleft'] = timeit.timeit('test_popleft(d)', globals=globals(), number=1000) / 1000 * 1e6\n",
        "    d = deque(range(size))\n",
        "    results[size]['append'] = timeit.timeit('test_append(d)', globals=globals(), number=1000) / 1000 * 1e6\n",
        "    d = deque(range(size))\n",
        "    results[size]['appendleft'] = timeit.timeit('test_appendleft(d)', globals=globals(), number=1000) / 1000 * 1e6\n",
        "\n",
        "# Print results in a table format\n",
        "header = \"{:<15} {:>10} {:>10} {:>10}\".format(\"Code\", \"N=10000 (µs)\", \"N=20000 (µs)\", \"N=30000 (µs)\")\n",
        "print(header)\n",
        "print(\"-\" * len(header))\n",
        "\n",
        "for operation in ['pop', 'popleft', 'append', 'appendleft']:\n",
        "    row = \"{:<15} \".format(f\"deque.{operation}()\")\n",
        "    for size in sizes:\n",
        "        row += \"{:>10.2f} \".format(results[size][operation])\n",
        "    print(row)\n"
      ]
    },
    {
      "cell_type": "code",
      "execution_count": 4,
      "metadata": {
        "colab": {
          "base_uri": "https://localhost:8080/"
        },
        "id": "ywWkGsBwStNW",
        "outputId": "98245fcf-8436-42cd-cc59-df5e915bc409"
      },
      "outputs": [
        {
          "name": "stdout",
          "output_type": "stream",
          "text": [
            "Code                    N=10000 (µs)    N=20000 (µs)    N=30000 (µs)       Time\n",
            "deque[0]                        0.31            0.14            0.21       O(1)\n",
            "deque[N-1]                      0.23            0.14            0.20       O(1)\n",
            "deque[int(N/2)]                 0.48            0.97            1.36       O(N)\n"
          ]
        }
      ],
      "source": [
        "import timeit\n",
        "from collections import deque\n",
        "\n",
        "# Define the number of elements for the tests\n",
        "sizes = [10000, 20000, 30000]\n",
        "\n",
        "# Initialize results dictionary\n",
        "results = {\n",
        "    'deque[0]': [],\n",
        "    'deque[N-1]': [],\n",
        "    'deque[int(N/2)]': []\n",
        "}\n",
        "\n",
        "# Test functions to access elements in a deque\n",
        "def access_first_element(d):\n",
        "    return d[0]\n",
        "\n",
        "def access_last_element(d):\n",
        "    return d[-1]\n",
        "\n",
        "def access_middle_element(d, N):\n",
        "    return d[N // 2]\n",
        "\n",
        "# Run tests and collect results for each size N\n",
        "for N in sizes:\n",
        "    d = deque(range(N))\n",
        "    time_first = timeit.timeit(lambda: access_first_element(d), number=1000)\n",
        "    time_last = timeit.timeit(lambda: access_last_element(d), number=1000)\n",
        "    time_middle = timeit.timeit(lambda: access_middle_element(d, N), number=1000)\n",
        "    results['deque[0]'].append(time_first / 1000 * 1e6) # Convert to microseconds\n",
        "    results['deque[N-1]'].append(time_last / 1000 * 1e6) # Convert to microseconds\n",
        "    results['deque[int(N/2)]'].append(time_middle / 1000 * 1e6) # Convert to microseconds\n",
        "\n",
        "# Print the results in a table format\n",
        "print(\"{:<20} {:>15} {:>15} {:>15} {:>10}\".format(\"Code\", \"N=10000 (µs)\", \"N=20000 (µs)\", \"N=30000 (µs)\", \"Time\"))\n",
        "for operation in results:\n",
        "    times = results[operation]\n",
        "    big_o = \"O(1)\" if operation != \"deque[int(N/2)]\" else \"O(N)\"\n",
        "    print(\"{:<20} {:>15.2f} {:>15.2f} {:>15.2f} {:>10}\".format(operation, times[0], times[1], times[2], big_o))\n"
      ]
    }
  ],
  "metadata": {
    "colab": {
      "provenance": []
    },
    "kernelspec": {
      "display_name": "Python 3",
      "name": "python3"
    },
    "language_info": {
      "codemirror_mode": {
        "name": "ipython",
        "version": 3
      },
      "file_extension": ".py",
      "mimetype": "text/x-python",
      "name": "python",
      "nbconvert_exporter": "python",
      "pygments_lexer": "ipython3",
      "version": "3.11.9"
    }
  },
  "nbformat": 4,
  "nbformat_minor": 0
}
